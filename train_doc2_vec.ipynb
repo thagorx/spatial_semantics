{
 "cells": [
  {
   "cell_type": "code",
   "execution_count": 2,
   "id": "irish-madison",
   "metadata": {},
   "outputs": [],
   "source": [
    "from gensim.corpora.wikicorpus import WikiCorpus\n",
    "from gensim.models.doc2vec import Doc2Vec, TaggedDocument\n",
    "from pprint import pprint\n",
    "import multiprocessing\n",
    "import pickle"
   ]
  },
  {
   "cell_type": "code",
   "execution_count": null,
   "id": "revised-philadelphia",
   "metadata": {},
   "outputs": [],
   "source": [
    "#https://markroxor.github.io/gensim/static/notebooks/doc2vec-wikipedia.html"
   ]
  },
  {
   "cell_type": "code",
   "execution_count": null,
   "id": "relevant-garage",
   "metadata": {},
   "outputs": [],
   "source": [
    "wiki = WikiCorpus(\"../data/en_wikipedia_corpus/enwiki-latest-pages-articles.xml.bz2\")"
   ]
  },
  {
   "cell_type": "code",
   "execution_count": null,
   "id": "literary-wheat",
   "metadata": {},
   "outputs": [],
   "source": [
    "import pickle\n",
    "pickle.dump(wiki, open( \"../data/en_wikipedia_corpus/corpus.pickel\", \"wb\" ))"
   ]
  },
  {
   "cell_type": "code",
   "execution_count": 2,
   "id": "following-blast",
   "metadata": {},
   "outputs": [],
   "source": [
    "class TaggedWikiDocument(object):\n",
    "    def __init__(self, wiki):\n",
    "        self.wiki = wiki\n",
    "        self.wiki.metadata = True\n",
    "    def __iter__(self):\n",
    "        for content, (page_id, title) in self.wiki.get_texts():\n",
    "            yield TaggedDocument([c for c in content], [title])\n",
    "\n"
   ]
  },
  {
   "cell_type": "code",
   "execution_count": 4,
   "id": "anonymous-nancy",
   "metadata": {},
   "outputs": [],
   "source": [
    "wiki = pickle.load(open( \"../data/en_wikipedia_corpus/corpus.pickel\", \"rb\"))"
   ]
  },
  {
   "cell_type": "code",
   "execution_count": 5,
   "id": "identical-darkness",
   "metadata": {},
   "outputs": [],
   "source": [
    "documents = TaggedWikiDocument(wiki)\n",
    "pickle.dump(documents, open( \"../data/en_wikipedia_corpus/TaggedWikiDocument.pickel\", \"wb\" ))"
   ]
  },
  {
   "cell_type": "code",
   "execution_count": 3,
   "id": "aggregate-function",
   "metadata": {},
   "outputs": [],
   "source": [
    "documents = pickle.load(open( \"../data/en_wikipedia_corpus/TaggedWikiDocument.pickel\", \"rb\" ))"
   ]
  },
  {
   "cell_type": "code",
   "execution_count": null,
   "id": "royal-fence",
   "metadata": {},
   "outputs": [],
   "source": [
    "doc2vec_model = Doc2Vec(documents=documents, dm=0, dbow_words=1, vector_size=200, window=8, min_count=19, epochs=10, workers=8)"
   ]
  },
  {
   "cell_type": "code",
   "execution_count": null,
   "id": "narrow-output",
   "metadata": {},
   "outputs": [],
   "source": [
    "# doc2vec_model.build_vocab(documents)\n",
    "# doc2vec_model.train(documents)\n",
    "doc2vec_model.save(\"../data/en_wikipedia_corpus/doc2vec_eng.pickel\")\n",
    "print('done')"
   ]
  },
  {
   "cell_type": "code",
   "execution_count": 3,
   "id": "supposed-brown",
   "metadata": {},
   "outputs": [],
   "source": [
    "doc2vec_model = Doc2Vec.load(\"../data/en_wikipedia_corpus/doc2vec_eng.pickel\")"
   ]
  },
  {
   "cell_type": "code",
   "execution_count": 5,
   "id": "criminal-jewelry",
   "metadata": {},
   "outputs": [
    {
     "data": {
      "text/plain": [
       "[('town', 0.7687236070632935),\n",
       " ('municipal', 0.61979079246521),\n",
       " ('capital', 0.612492561340332),\n",
       " ('new', 0.6124764084815979),\n",
       " ('district', 0.6092146635055542),\n",
       " ('council', 0.6083431839942932),\n",
       " ('area', 0.6050208806991577),\n",
       " ('mayor', 0.6040849685668945),\n",
       " ('local', 0.6010626554489136),\n",
       " ('west', 0.5961198806762695)]"
      ]
     },
     "execution_count": 5,
     "metadata": {},
     "output_type": "execute_result"
    }
   ],
   "source": [
    "doc2vec_model.wv.most_similar(positive=[\"city\"], topn=10)"
   ]
  },
  {
   "cell_type": "code",
   "execution_count": 16,
   "id": "legal-usage",
   "metadata": {},
   "outputs": [
    {
     "ename": "TypeError",
     "evalue": "'<' not supported between instances of 'str' and 'int'",
     "output_type": "error",
     "traceback": [
      "\u001b[0;31m---------------------------------------------------------------------------\u001b[0m",
      "\u001b[0;31mTypeError\u001b[0m                                 Traceback (most recent call last)",
      "\u001b[0;32m<ipython-input-16-2192fff5715b>\u001b[0m in \u001b[0;36m<module>\u001b[0;34m\u001b[0m\n\u001b[0;32m----> 1\u001b[0;31m \u001b[0mdoc2vec_model\u001b[0m\u001b[0;34m.\u001b[0m\u001b[0mdocvecs\u001b[0m\u001b[0;34m.\u001b[0m\u001b[0mmost_similar\u001b[0m\u001b[0;34m(\u001b[0m\u001b[0mpositive\u001b[0m\u001b[0;34m=\u001b[0m\u001b[0;34m[\u001b[0m\u001b[0;34m\"city\"\u001b[0m\u001b[0;34m,\u001b[0m\u001b[0;34m\"town\"\u001b[0m\u001b[0;34m]\u001b[0m\u001b[0;34m,\u001b[0m \u001b[0mtopn\u001b[0m\u001b[0;34m=\u001b[0m\u001b[0;36m10\u001b[0m\u001b[0;34m)\u001b[0m\u001b[0;34m\u001b[0m\u001b[0;34m\u001b[0m\u001b[0m\n\u001b[0m",
      "\u001b[0;32m~/.local/lib/python3.8/site-packages/gensim/models/keyedvectors.py\u001b[0m in \u001b[0;36mmost_similar\u001b[0;34m(self, positive, negative, topn, clip_start, clip_end, indexer)\u001b[0m\n\u001b[1;32m   1726\u001b[0m             \u001b[0;32mif\u001b[0m \u001b[0misinstance\u001b[0m\u001b[0;34m(\u001b[0m\u001b[0mdoc\u001b[0m\u001b[0;34m,\u001b[0m \u001b[0mndarray\u001b[0m\u001b[0;34m)\u001b[0m\u001b[0;34m:\u001b[0m\u001b[0;34m\u001b[0m\u001b[0;34m\u001b[0m\u001b[0m\n\u001b[1;32m   1727\u001b[0m                 \u001b[0mmean\u001b[0m\u001b[0;34m.\u001b[0m\u001b[0mappend\u001b[0m\u001b[0;34m(\u001b[0m\u001b[0mweight\u001b[0m \u001b[0;34m*\u001b[0m \u001b[0mdoc\u001b[0m\u001b[0;34m)\u001b[0m\u001b[0;34m\u001b[0m\u001b[0;34m\u001b[0m\u001b[0m\n\u001b[0;32m-> 1728\u001b[0;31m             \u001b[0;32melif\u001b[0m \u001b[0mdoc\u001b[0m \u001b[0;32min\u001b[0m \u001b[0mself\u001b[0m\u001b[0;34m.\u001b[0m\u001b[0mdoctags\u001b[0m \u001b[0;32mor\u001b[0m \u001b[0mdoc\u001b[0m \u001b[0;34m<\u001b[0m \u001b[0mself\u001b[0m\u001b[0;34m.\u001b[0m\u001b[0mcount\u001b[0m\u001b[0;34m:\u001b[0m\u001b[0;34m\u001b[0m\u001b[0;34m\u001b[0m\u001b[0m\n\u001b[0m\u001b[1;32m   1729\u001b[0m                 \u001b[0mmean\u001b[0m\u001b[0;34m.\u001b[0m\u001b[0mappend\u001b[0m\u001b[0;34m(\u001b[0m\u001b[0mweight\u001b[0m \u001b[0;34m*\u001b[0m \u001b[0mself\u001b[0m\u001b[0;34m.\u001b[0m\u001b[0mvectors_docs_norm\u001b[0m\u001b[0;34m[\u001b[0m\u001b[0mself\u001b[0m\u001b[0;34m.\u001b[0m\u001b[0m_int_index\u001b[0m\u001b[0;34m(\u001b[0m\u001b[0mdoc\u001b[0m\u001b[0;34m,\u001b[0m \u001b[0mself\u001b[0m\u001b[0;34m.\u001b[0m\u001b[0mdoctags\u001b[0m\u001b[0;34m,\u001b[0m \u001b[0mself\u001b[0m\u001b[0;34m.\u001b[0m\u001b[0mmax_rawint\u001b[0m\u001b[0;34m)\u001b[0m\u001b[0;34m]\u001b[0m\u001b[0;34m)\u001b[0m\u001b[0;34m\u001b[0m\u001b[0;34m\u001b[0m\u001b[0m\n\u001b[1;32m   1730\u001b[0m                 \u001b[0mall_docs\u001b[0m\u001b[0;34m.\u001b[0m\u001b[0madd\u001b[0m\u001b[0;34m(\u001b[0m\u001b[0mself\u001b[0m\u001b[0;34m.\u001b[0m\u001b[0m_int_index\u001b[0m\u001b[0;34m(\u001b[0m\u001b[0mdoc\u001b[0m\u001b[0;34m,\u001b[0m \u001b[0mself\u001b[0m\u001b[0;34m.\u001b[0m\u001b[0mdoctags\u001b[0m\u001b[0;34m,\u001b[0m \u001b[0mself\u001b[0m\u001b[0;34m.\u001b[0m\u001b[0mmax_rawint\u001b[0m\u001b[0;34m)\u001b[0m\u001b[0;34m)\u001b[0m\u001b[0;34m\u001b[0m\u001b[0;34m\u001b[0m\u001b[0m\n",
      "\u001b[0;31mTypeError\u001b[0m: '<' not supported between instances of 'str' and 'int'"
     ]
    }
   ],
   "source": [
    "doc2vec_model.docvecs.most_similar(positive=[\"city\",\"town\"], topn=10)"
   ]
  },
  {
   "cell_type": "code",
   "execution_count": 19,
   "id": "waiting-walter",
   "metadata": {},
   "outputs": [
    {
     "data": {
      "text/plain": [
       "array([ 0.07277025,  0.00849233,  0.03077935, -0.02744078,  0.02194627,\n",
       "        0.03266026,  0.015924  ,  0.06219883,  0.00574132,  0.05301973,\n",
       "        0.01768093, -0.00439602, -0.00349836, -0.05880285,  0.0224642 ,\n",
       "        0.05130711,  0.00552997,  0.03822338, -0.00262723, -0.01081378,\n",
       "        0.0393921 ,  0.01143752, -0.00948339,  0.01029765,  0.01132962,\n",
       "       -0.00300931,  0.03352148,  0.00711243, -0.00803921, -0.03255729,\n",
       "       -0.01279174,  0.0310483 ,  0.06584365, -0.00897967,  0.04465413,\n",
       "        0.02738792,  0.02981029,  0.00909004,  0.01487201,  0.04473203,\n",
       "       -0.00789219, -0.05418981,  0.0159711 ,  0.01931728, -0.01622858,\n",
       "       -0.01690745, -0.02029613, -0.0531276 , -0.03191404, -0.01261466,\n",
       "       -0.01241071,  0.0232728 , -0.01562901,  0.00062699, -0.06875767,\n",
       "       -0.0208966 ,  0.03805689,  0.02659271,  0.00250218,  0.00693419,\n",
       "       -0.02118334, -0.03612382,  0.01045304,  0.02717943,  0.00027392,\n",
       "       -0.03859407,  0.03170978,  0.00545778, -0.00976099,  0.02377871,\n",
       "        0.0363666 ,  0.03014318,  0.00480613,  0.01780568,  0.03087016,\n",
       "        0.05512543, -0.00283726, -0.01168433, -0.01280224,  0.00014965,\n",
       "       -0.00548365,  0.05337466,  0.01047342, -0.06269669,  0.07513957,\n",
       "        0.05122383, -0.03217363,  0.01902677, -0.003886  , -0.05932875,\n",
       "       -0.04453184,  0.04166152, -0.03926704,  0.01597972,  0.02054647,\n",
       "        0.04928334, -0.0270779 , -0.01415873, -0.01940768, -0.06212416,\n",
       "       -0.00446513,  0.01596951, -0.00692286,  0.07402288, -0.05538167,\n",
       "       -0.02430216,  0.01100183, -0.01957333,  0.03672731,  0.0081885 ,\n",
       "       -0.05082431,  0.01384056,  0.02692254,  0.09089115,  0.01006578,\n",
       "       -0.02211169,  0.00313991, -0.01668752, -0.06963401,  0.03702065,\n",
       "       -0.02293493, -0.09042006,  0.0050288 , -0.03744487, -0.03253238,\n",
       "       -0.01911882,  0.00545973, -0.00400684,  0.08228739, -0.1050356 ,\n",
       "        0.01868369,  0.11394048,  0.00927081, -0.03874829, -0.03690176,\n",
       "        0.05474236, -0.02790437, -0.00374862, -0.02383878, -0.0242305 ,\n",
       "       -0.08176278, -0.01282703, -0.00172715, -0.01990076,  0.01989289,\n",
       "        0.03222622,  0.01971914, -0.0578917 , -0.02679893,  0.05401743,\n",
       "        0.03103796,  0.0418296 , -0.03659154, -0.05229653, -0.02027202,\n",
       "       -0.00333369,  0.01879422, -0.02817014, -0.06724252, -0.03838098,\n",
       "       -0.05263245, -0.04398917,  0.03792218,  0.04524812,  0.02244818,\n",
       "       -0.00076526, -0.02542784, -0.03203335, -0.01344408, -0.0072837 ,\n",
       "        0.03040938, -0.00239109,  0.05957694, -0.07297739, -0.07911699,\n",
       "       -0.04007469, -0.05230556, -0.07030105, -0.003272  , -0.04960007,\n",
       "       -0.03685229, -0.06319454, -0.03743132, -0.00205202, -0.00553919,\n",
       "        0.04883356,  0.01360555, -0.02032244, -0.06708302, -0.03116423,\n",
       "        0.02575224,  0.00307284, -0.02785294,  0.00386439,  0.0088227 ,\n",
       "       -0.02771599, -0.00735215, -0.04354188, -0.04529973,  0.06634955],\n",
       "      dtype=float32)"
      ]
     },
     "execution_count": 19,
     "metadata": {},
     "output_type": "execute_result"
    }
   ],
   "source": [
    "doc2vec_model.infer_vector(['city'])"
   ]
  }
 ],
 "metadata": {
  "jupytext": {
   "formats": "ipynb,auto:light"
  },
  "kernelspec": {
   "display_name": "Python 3",
   "language": "python",
   "name": "python3"
  },
  "language_info": {
   "codemirror_mode": {
    "name": "ipython",
    "version": 3
   },
   "file_extension": ".py",
   "mimetype": "text/x-python",
   "name": "python",
   "nbconvert_exporter": "python",
   "pygments_lexer": "ipython3",
   "version": "3.8.5"
  }
 },
 "nbformat": 4,
 "nbformat_minor": 5
}
