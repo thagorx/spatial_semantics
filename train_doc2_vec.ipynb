{
 "cells": [
  {
   "cell_type": "code",
   "execution_count": 3,
   "id": "neutral-bachelor",
   "metadata": {},
   "outputs": [],
   "source": [
    "from gensim.corpora.wikicorpus import WikiCorpus\n",
    "from gensim.models.doc2vec import Doc2Vec, TaggedDocument\n",
    "from pprint import pprint\n",
    "import multiprocessing\n",
    "import pickle"
   ]
  },
  {
   "cell_type": "code",
   "execution_count": null,
   "id": "attempted-packaging",
   "metadata": {},
   "outputs": [],
   "source": [
    "#https://markroxor.github.io/gensim/static/notebooks/doc2vec-wikipedia.html"
   ]
  },
  {
   "cell_type": "code",
   "execution_count": null,
   "id": "computational-federal",
   "metadata": {},
   "outputs": [],
   "source": [
    "wiki = WikiCorpus(\"../data/en_wikipedia_corpus/enwiki-latest-pages-articles.xml.bz2\")"
   ]
  },
  {
   "cell_type": "code",
   "execution_count": null,
   "id": "jewish-above",
   "metadata": {},
   "outputs": [],
   "source": [
    "import pickle\n",
    "pickle.dump(wiki, open( \"../data/en_wikipedia_corpus/corpus.pickel\", \"wb\" ))"
   ]
  },
  {
   "cell_type": "code",
   "execution_count": 1,
   "id": "median-cause",
   "metadata": {},
   "outputs": [],
   "source": [
    "class TaggedWikiDocument(object):\n",
    "    def __init__(self, wiki):\n",
    "        self.wiki = wiki\n",
    "        self.wiki.metadata = True\n",
    "    def __iter__(self):\n",
    "        for content, (page_id, title) in self.wiki.get_texts():\n",
    "            yield TaggedDocument([c for c in content], [title])\n",
    "\n"
   ]
  },
  {
   "cell_type": "code",
   "execution_count": 4,
   "id": "printable-aviation",
   "metadata": {},
   "outputs": [],
   "source": [
    "wiki = pickle.load(open( \"../data/en_wikipedia_corpus/corpus.pickel\", \"rb\"))"
   ]
  },
  {
   "cell_type": "code",
   "execution_count": 5,
   "id": "registered-childhood",
   "metadata": {},
   "outputs": [],
   "source": [
    "documents = TaggedWikiDocument(wiki)\n",
    "pickle.dump(documents, open( \"../data/en_wikipedia_corpus/TaggedWikiDocument.pickel\", \"wb\" ))"
   ]
  },
  {
   "cell_type": "code",
   "execution_count": 6,
   "id": "altered-macro",
   "metadata": {},
   "outputs": [],
   "source": [
    "documents = pickle.load(open( \"../data/en_wikipedia_corpus/TaggedWikiDocument.pickel\", \"rb\" ))"
   ]
  },
  {
   "cell_type": "code",
   "execution_count": null,
   "id": "handmade-coordination",
   "metadata": {},
   "outputs": [],
   "source": [
    "doc2vec_model = Doc2Vec(documents=documents, dm=0, dbow_words=1, vector_size=200, window=8, min_count=19, epochs=10, workers=8)"
   ]
  },
  {
   "cell_type": "code",
   "execution_count": null,
   "id": "worth-equivalent",
   "metadata": {},
   "outputs": [],
   "source": [
    "# doc2vec_model.build_vocab(documents)\n",
    "# doc2vec_model.train(documents)\n",
    "doc2vec_model.save(\"../data/en_wikipedia_corpus/doc2vec_eng.pickel\")\n",
    "print('done')"
   ]
  },
  {
   "cell_type": "code",
   "execution_count": null,
   "id": "encouraging-gibraltar",
   "metadata": {},
   "outputs": [],
   "source": []
  }
 ],
 "metadata": {
  "jupytext": {
   "formats": "ipynb,auto:light"
  },
  "kernelspec": {
   "display_name": "Python 3",
   "language": "python",
   "name": "python3"
  },
  "language_info": {
   "codemirror_mode": {
    "name": "ipython",
    "version": 3
   },
   "file_extension": ".py",
   "mimetype": "text/x-python",
   "name": "python",
   "nbconvert_exporter": "python",
   "pygments_lexer": "ipython3",
   "version": "3.8.5"
  }
 },
 "nbformat": 4,
 "nbformat_minor": 5
}
