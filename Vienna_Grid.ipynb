{
 "cells": [
  {
   "cell_type": "code",
   "execution_count": 2,
   "id": "concerned-project",
   "metadata": {},
   "outputs": [],
   "source": [
    "# Todos:\n",
    "# - create an 500m grid all over vienna [x]\n",
    "# - generate Vectors for all of them\n",
    "# - make a comparison with tu Vienna polygon"
   ]
  },
  {
   "cell_type": "code",
   "execution_count": 1,
   "id": "accomplished-alarm",
   "metadata": {},
   "outputs": [],
   "source": [
    "from create_semantic_vector import Spatial_Semantic_Vector\n",
    "from shapely.geometry import Polygon, MultiPoint\n",
    "import pandas as pd\n",
    "import geopandas as gpd\n",
    "from datetime import datetime\n",
    "import numpy as np\n",
    "from scipy import spatial"
   ]
  },
  {
   "cell_type": "code",
   "execution_count": 2,
   "id": "invalid-questionnaire",
   "metadata": {},
   "outputs": [],
   "source": [
    "spatial_semantic_vector_obj = Spatial_Semantic_Vector('../data/spatial_semantics/kv_df_just_eng.pickle',\n",
    "                                                      '../data/spatial_semantics/tag_sizes_median_df.pickle',\n",
    "                                                      \"../data/en_wikipedia_corpus/doc2vec_eng.pickel\")\n",
    "# tu wien Polygon (for testing purpose)\n",
    "q_poly = Polygon([(16.36896371841431,48.20063653233946),\n",
    "                  (16.373598575592045,48.19960677385028),\n",
    "                  (16.371034383773807,48.19771882952509),\n",
    "                  (16.36772990226746,48.19816221664037)])"
   ]
  },
  {
   "cell_type": "code",
   "execution_count": 5,
   "id": "genetic-calendar",
   "metadata": {},
   "outputs": [],
   "source": [
    "level_1_admin = gpd.read_file(\"../data/shapes/level_1_admin/ne_10m_admin_1_states_provinces.shp\")\n",
    "# in this case we select vienna as the polyon\n",
    "vienna_shape  = level_1_admin[level_1_admin['name']=='Wien']['geometry'].iloc[0]"
   ]
  },
  {
   "cell_type": "code",
   "execution_count": 6,
   "id": "covered-payday",
   "metadata": {},
   "outputs": [],
   "source": [
    "min_lon, min_lat, max_lon, max_lat = vienna_shape.bounds\n",
    "\n",
    "# 0.001° = 111 m\n",
    "grid_size = 0.0005\n",
    "\n",
    "\n",
    "i_lon = min_lon\n",
    "i_lat = min_lat\n",
    "grid_list = []\n",
    "while i_lon <= max_lon:\n",
    "    while i_lat <= max_lat:\n",
    "        poly = Polygon([(i_lon,i_lat),(i_lon,i_lat+grid_size),(i_lon+grid_size,i_lat+grid_size),(i_lon+grid_size,i_lat)])\n",
    "        if vienna_shape.contains(poly):\n",
    "            grid_list.append(poly)\n",
    "        \n",
    "        i_lat += grid_size\n",
    "    i_lat = min_lat\n",
    "    i_lon += grid_size\n",
    "    "
   ]
  },
  {
   "cell_type": "code",
   "execution_count": 7,
   "id": "manual-afghanistan",
   "metadata": {},
   "outputs": [
    {
     "data": {
      "text/plain": [
       "<AxesSubplot:>"
      ]
     },
     "execution_count": 7,
     "metadata": {},
     "output_type": "execute_result"
    },
    {
     "data": {
      "image/png": "[encoded data removed]",
      "text/plain": [
       "<Figure size 432x288 with 1 Axes>"
      ]
     },
     "metadata": {
      "needs_background": "light"
     },
     "output_type": "display_data"
    }
   ],
   "source": [
    "vienna_grid_gdf = gpd.GeoDataFrame({'geometry': grid_list}, crs=\"EPSG:4326\")\n",
    "vienna_grid_gdf.plot()"
   ]
  },
  {
   "cell_type": "code",
   "execution_count": 3,
   "id": "hazardous-platinum",
   "metadata": {},
   "outputs": [],
   "source": [
    "grid_save_path = '../data/spatial_semantics/vienna_grid_high_res_gdf.pickle'"
   ]
  },
  {
   "cell_type": "code",
   "execution_count": 8,
   "id": "proud-program",
   "metadata": {
    "collapsed": true,
    "jupyter": {
     "outputs_hidden": true
    }
   },
   "outputs": [
    {
     "data": {
      "text/html": [
       "<div>\n",
       "<style scoped>\n",
       "    .dataframe tbody tr th:only-of-type {\n",
       "        vertical-align: middle;\n",
       "    }\n",
       "\n",
       "    .dataframe tbody tr th {\n",
       "        vertical-align: top;\n",
       "    }\n",
       "\n",
       "    .dataframe thead th {\n",
       "        text-align: right;\n",
       "    }\n",
       "</style>\n",
       "<table border=\"1\" class=\"dataframe\">\n",
       "  <thead>\n",
       "    <tr style=\"text-align: right;\">\n",
       "      <th></th>\n",
       "      <th>geometry</th>\n",
       "      <th>spatial_semantic_vector</th>\n",
       "    </tr>\n",
       "  </thead>\n",
       "  <tbody>\n",
       "    <tr>\n",
       "      <th>0</th>\n",
       "      <td>POLYGON ((16.18874 48.22975, 16.18874 48.23025...</td>\n",
       "      <td>None</td>\n",
       "    </tr>\n",
       "    <tr>\n",
       "      <th>1</th>\n",
       "      <td>POLYGON ((16.18874 48.23025, 16.18874 48.23075...</td>\n",
       "      <td>None</td>\n",
       "    </tr>\n",
       "    <tr>\n",
       "      <th>2</th>\n",
       "      <td>POLYGON ((16.18874 48.23075, 16.18874 48.23125...</td>\n",
       "      <td>None</td>\n",
       "    </tr>\n",
       "    <tr>\n",
       "      <th>3</th>\n",
       "      <td>POLYGON ((16.18874 48.23125, 16.18874 48.23175...</td>\n",
       "      <td>None</td>\n",
       "    </tr>\n",
       "    <tr>\n",
       "      <th>4</th>\n",
       "      <td>POLYGON ((16.18874 48.23175, 16.18874 48.23225...</td>\n",
       "      <td>None</td>\n",
       "    </tr>\n",
       "    <tr>\n",
       "      <th>...</th>\n",
       "      <td>...</td>\n",
       "      <td>...</td>\n",
       "    </tr>\n",
       "    <tr>\n",
       "      <th>197187</th>\n",
       "      <td>POLYGON ((16.56924 48.15375, 16.56924 48.15425...</td>\n",
       "      <td>None</td>\n",
       "    </tr>\n",
       "    <tr>\n",
       "      <th>197188</th>\n",
       "      <td>POLYGON ((16.56924 48.15425, 16.56924 48.15475...</td>\n",
       "      <td>None</td>\n",
       "    </tr>\n",
       "    <tr>\n",
       "      <th>197189</th>\n",
       "      <td>POLYGON ((16.56924 48.15475, 16.56924 48.15525...</td>\n",
       "      <td>None</td>\n",
       "    </tr>\n",
       "    <tr>\n",
       "      <th>197190</th>\n",
       "      <td>POLYGON ((16.56974 48.15375, 16.56974 48.15425...</td>\n",
       "      <td>None</td>\n",
       "    </tr>\n",
       "    <tr>\n",
       "      <th>197191</th>\n",
       "      <td>POLYGON ((16.57024 48.15325, 16.57024 48.15375...</td>\n",
       "      <td>None</td>\n",
       "    </tr>\n",
       "  </tbody>\n",
       "</table>\n",
       "<p>197192 rows × 2 columns</p>\n",
       "</div>"
      ],
      "text/plain": [
       "                                                 geometry  \\\n",
       "0       POLYGON ((16.18874 48.22975, 16.18874 48.23025...   \n",
       "1       POLYGON ((16.18874 48.23025, 16.18874 48.23075...   \n",
       "2       POLYGON ((16.18874 48.23075, 16.18874 48.23125...   \n",
       "3       POLYGON ((16.18874 48.23125, 16.18874 48.23175...   \n",
       "4       POLYGON ((16.18874 48.23175, 16.18874 48.23225...   \n",
       "...                                                   ...   \n",
       "197187  POLYGON ((16.56924 48.15375, 16.56924 48.15425...   \n",
       "197188  POLYGON ((16.56924 48.15425, 16.56924 48.15475...   \n",
       "197189  POLYGON ((16.56924 48.15475, 16.56924 48.15525...   \n",
       "197190  POLYGON ((16.56974 48.15375, 16.56974 48.15425...   \n",
       "197191  POLYGON ((16.57024 48.15325, 16.57024 48.15375...   \n",
       "\n",
       "       spatial_semantic_vector  \n",
       "0                         None  \n",
       "1                         None  \n",
       "2                         None  \n",
       "3                         None  \n",
       "4                         None  \n",
       "...                        ...  \n",
       "197187                    None  \n",
       "197188                    None  \n",
       "197189                    None  \n",
       "197190                    None  \n",
       "197191                    None  \n",
       "\n",
       "[197192 rows x 2 columns]"
      ]
     },
     "execution_count": 8,
     "metadata": {},
     "output_type": "execute_result"
    }
   ],
   "source": [
    "#Initial setup of grid with vectors\n",
    "grid_save_path = '../data/spatial_semantics/vienna_grid_high_res_gdf.pickle'\n",
    "vienna_grid_vec_gdf = vienna_grid_gdf.copy()\n",
    "vienna_grid_vec_gdf['spatial_semantic_vector'] = None\n",
    "vienna_grid_vec_gdf.to_pickle(grid_save_path)\n",
    "vienna_grid_vec_gdf"
   ]
  },
  {
   "cell_type": "code",
   "execution_count": null,
   "id": "official-treasury",
   "metadata": {},
   "outputs": [],
   "source": [
    "vienna_grid_vec_gdf = pd.read_pickle(grid_save_path)\n",
    "vienna_grid_vec_gdf = gpd.GeoDataFrame(vienna_grid_vec_gdf, geometry=vienna_grid_vec_gdf['geometry'])\n",
    "\n",
    "for row in vienna_grid_vec_gdf[vienna_grid_vec_gdf['spatial_semantic_vector'].isnull()].iterrows():\n",
    "    vienna_grid_vec_gdf.at[row[0],'spatial_semantic_vector'] = \\\n",
    "            spatial_semantic_vector_obj.generate_vec(row[1]['geometry'])\n",
    "    vienna_grid_vec_gdf.to_pickle(grid_save_path)\n",
    "    remaining = len(vienna_grid_vec_gdf[vienna_grid_vec_gdf['spatial_semantic_vector'].isnull()])\n",
    "    print(f\"{remaining} cells are remaining {datetime.now().time().strftime('%H:%M:%S')}\")\n",
    "        \n",
    "vienna_grid_vec_gdf"
   ]
  },
  {
   "cell_type": "code",
   "execution_count": null,
   "id": "remarkable-knife",
   "metadata": {},
   "outputs": [],
   "source": [
    "## VISUALS AFTER HERE"
   ]
  },
  {
   "cell_type": "code",
   "execution_count": null,
   "id": "dress-terrorist",
   "metadata": {},
   "outputs": [],
   "source": [
    "vienna_grid_vec_gdf = pd.read_pickle(grid_save_path)\n",
    "vienna_grid_vec_gdf = gpd.GeoDataFrame(vienna_grid_vec_gdf, geometry=vienna_grid_vec_gdf['geometry'])\n",
    "vienna_grid_vec_test_gdf = vienna_grid_vec_gdf.reset_index().rename(columns={'index':'id'}).copy()\n",
    "gdf_centroid = list(MultiPoint(vienna_grid_vec_gdf['geometry'].centroid.tolist()).centroid.coords)[0]"
   ]
  },
  {
   "cell_type": "code",
   "execution_count": 113,
   "id": "presidential-resort",
   "metadata": {},
   "outputs": [
    {
     "name": "stdin",
     "output_type": "stream",
     "text": [
      " art and culture\n"
     ]
    },
    {
     "name": "stdout",
     "output_type": "stream",
     "text": [
      "0.6111328601837158\n",
      "0.1796191930770874\n"
     ]
    },
    {
     "data": {
      "application/vnd.jupyter.widget-view+json": {
       "model_id": "24e5aa7ec63f497f8f786a78d78b24c1",
       "version_major": 2,
       "version_minor": 0
      },
      "text/plain": [
       "Map(center=[48.22334973399689, 16.38403957794017], controls=(ZoomControl(options=['position', 'zoom_in_text', …"
      ]
     },
     "metadata": {},
     "output_type": "display_data"
    }
   ],
   "source": [
    "import ipyleaflet\n",
    "from ipyleaflet import Map, basemaps, basemap_to_tiles, GeoJSON, WKTLayer, GeoData\n",
    "from ipywidgets import Label\n",
    "from branca.colormap import linear\n",
    "import json\n",
    "\n",
    "\n",
    "target_string = input().lower().split(' ')\n",
    "taget_vector = spatial_semantic_vector_obj.doc2vec_model.infer_vector(target_string)\n",
    "\n",
    "def cosine_similarity(cell_vector):\n",
    "    r_value = None\n",
    "    try:\n",
    "        # this fails if cell vector isnt a cell vector but for example\n",
    "        # none or the string 'no tags found'\n",
    "        r_value = 1 - spatial.distance.cosine(taget_vector, cell_vector)\n",
    "    except:\n",
    "        pass\n",
    "\n",
    "    return r_value\n",
    "\n",
    "vienna_grid_vec_test_gdf['value'] = vienna_grid_vec_test_gdf['spatial_semantic_vector'].apply(cosine_similarity)\n",
    "v_max = vienna_grid_vec_test_gdf['value'].max()\n",
    "v_min = vienna_grid_vec_test_gdf['value'].min()\n",
    "vienna_grid_vec_test_gdf = vienna_grid_vec_test_gdf.replace({np.nan: 0})\n",
    "\n",
    "\n",
    "value_ramp = dict(zip(vienna_grid_vec_test_gdf['id'].tolist(),vienna_grid_vec_test_gdf['value'].tolist()))\n",
    "vienna_grid_vec_test_gdf[['id','geometry']].to_file('../data/spatial_semantics/vienna_grid_vec_gdf_TMP.geojson', driver='GeoJSON')\n",
    "with open('../data/spatial_semantics/vienna_grid_vec_gdf_TMP.geojson') as f:\n",
    "    geo_json = json.load(f)\n",
    "    \n",
    "for feature in geo_json['features']:\n",
    "    feature['id'] = feature['properties']['id']\n",
    "\n",
    "m = Map(\n",
    "    basemap=basemaps.CartoDB.Positron,\n",
    "    center=(gdf_centroid[1],gdf_centroid[0]),\n",
    "    zoom=11\n",
    ")\n",
    "\n",
    "#countries = gpd.read_file(gpd.datasets.get_path('naturalearth_lowres'))\n",
    "ramp_layer = ipyleaflet.Choropleth(geo_data=geo_json,\n",
    "                                   choro_data=value_ramp,\n",
    "                                   colormap=linear.YlOrRd_04,\n",
    "                                   key_on='id',\n",
    "                                   border_color='black',\n",
    "                                   style={'fillOpacity': 0.8, 'opacity': 0.0, 'dashArray': '5, 5'},\n",
    "                                   value_max = 0.5,\n",
    "                                   value_min = 0.3)\n",
    "\n",
    "                                   \n",
    "# geo_data = GeoData(geo_dataframe = vienna_grid_vec_gdf[['id','geometry']],\n",
    "#                    style={'color': 'black', 'fillColor': '#3366cc', 'opacity':0.05, 'weight':1.9, 'dashArray':'2', 'fillOpacity':0.6},\n",
    "#                    hover_style={'fillColor': 'red' , 'fillOpacity': 0.2},\n",
    "#                    name = 'Countries')\n",
    "\n",
    "# wlayer2 = WKTLayer(\n",
    "#     #wkt_string=Polygon([(cord[1],cord[0]) for cord in q_poly.exterior.coords]).wkt,\n",
    "#     wkt_string=Polygon(q_poly.exterior.coords).wkt,\n",
    "#     #hover_style={\"fillColor\": \"red\"},\n",
    "#     fill_color=\"blue\",\n",
    "#     color=\"blue\",\n",
    "\n",
    "# )\n",
    "print(v_max)\n",
    "print(v_min)\n",
    "m.add_layer(ramp_layer)\n",
    "m"
   ]
  }
 ],
 "metadata": {
  "kernelspec": {
   "display_name": "Python 3",
   "language": "python",
   "name": "python3"
  },
  "language_info": {
   "codemirror_mode": {
    "name": "ipython",
    "version": 3
   },
   "file_extension": ".py",
   "mimetype": "text/x-python",
   "name": "python",
   "nbconvert_exporter": "python",
   "pygments_lexer": "ipython3",
   "version": "3.8.5"
  }
 },
 "nbformat": 4,
 "nbformat_minor": 5
}
