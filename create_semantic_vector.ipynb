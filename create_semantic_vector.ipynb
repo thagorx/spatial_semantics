{
 "cells": [
  {
   "cell_type": "code",
   "execution_count": null,
   "id": "desirable-shock",
   "metadata": {},
   "outputs": [],
   "source": [
    "# next todos:\n",
    "# construct a vector for one bounding box\n",
    "#    - fetch all the features within a bb (allready works) [x]\n",
    "#    - wheig the features according to their median size in sample dataset\n",
    "#    - feed words acording to weiths into a document \n",
    "#    - generate a vector for this document"
   ]
  },
  {
   "cell_type": "code",
   "execution_count": 3,
   "id": "popular-serve",
   "metadata": {},
   "outputs": [],
   "source": [
    "import parse_osm\n",
    "import tag_handler\n",
    "from shapely.geometry import Polygon, LineString, Point, MultiPolygon, MultiLineString, MultiPoint\n",
    "from shapely.ops import transform\n",
    "import random\n",
    "import pandas as pd\n",
    "import geopandas as gpd\n",
    "import pyproj\n",
    "import numpy as np\n",
    "import statistics"
   ]
  },
  {
   "cell_type": "code",
   "execution_count": 104,
   "id": "constant-plain",
   "metadata": {},
   "outputs": [],
   "source": [
    "tag_df =  pd.read_pickle('../data/spatial_semantics/kv_df_just_eng.pickle')\n",
    "tag_median_size_df = pd.read_pickle('../data/spatial_semantics/tag_sizes_median_df.pickle').set_index(['key','value']).sort_index()\n",
    "#replace pd nan with None\n",
    "tag_median_size_df = tag_median_size_df.where(pd.notnull(tag_median_size_df), None)\n",
    "filtertags_handler = tag_handler.filtertags(tag_df)#TU Wien polygon\n",
    "# from here on out we want key value in the tag_df as the index because it makes\n",
    "# the look up faster\n",
    "# we sort the index to handle the \"1: PerformanceWarning: indexing past lexsort depth may impact performance.\" Warning\n",
    "tag_df = tag_df.set_index(['key','value']).sort_index()\n",
    "q_poly = Polygon([(16.36896371841431,48.20063653233946),(16.373598575592045,48.19960677385028),(16.371034383773807,48.19771882952509),(16.36772990226746,48.19816221664037)])"
   ]
  },
  {
   "cell_type": "code",
   "execution_count": 107,
   "id": "concrete-sleeping",
   "metadata": {},
   "outputs": [],
   "source": [
    "def compose_document(element):\n",
    "    # example element:\n",
    "    # {'leisure pitch': {'area': 373.27528143301606}, 'sport basketball': {'area': 373.27528143301606}}\n",
    "    doc_shard = ''\n",
    "    for key in element.keys():\n",
    "        group, sub_type =  key.split(' ')\n",
    "        # we lookup the combination in the tag_df\n",
    "        row = tag_df.loc[group, sub_type]\n",
    "        # and retrieve both the wikidata and the wikipedia text from it\n",
    "        wikidata_desc = row.iloc[0].wikidata_desc\n",
    "        wikipedia_desc = row.iloc[0].en_text\n",
    "        \n",
    "        # now we test if we aktualy have wikipedia text\n",
    "        if wikipedia_desc:\n",
    "            text = wikipedia_desc\n",
    "        # if not we take the wikidata description instead\n",
    "        else:\n",
    "            text = wikidata_desc\n",
    "        \n",
    "        # now we test if we have an area or a lenght for the group sub_type combo\n",
    "        if element[key]:\n",
    "            # this is uqly and needs restructuring:\n",
    "            if element[key].get('area'):\n",
    "                area = element[key].get('area')\n",
    "                # now we need to get the median area for this group sub_type combo\n",
    "                try:\n",
    "                    m_area = tag_median_size_df.loc[group,sub_type].median_area\n",
    "                except:\n",
    "                    m_area = None\n",
    "                \n",
    "                if m_area:\n",
    "                    doc_shard += text_weigher(text,area/m_area)\n",
    "                else:\n",
    "                    # if we dont have an median we wiegh with 0\n",
    "                    doc_shard += text_weigher(text,0)  \n",
    "            \n",
    "            if element[key].get('length'):\n",
    "                length = element[key].get('length')\n",
    "                # now we need to get the median area for this group sub_type combo\n",
    "                try:\n",
    "                    m_length = tag_median_size_df.loc[group,sub_type].median_length\n",
    "                except:\n",
    "                    m_length = None\n",
    "                \n",
    "                if m_length:\n",
    "                    doc_shard += text_weigher(text,length/m_length)\n",
    "                else:\n",
    "                    # if we dont have an median we wiegh with 0\n",
    "                    doc_shard += text_weigher(text,0)                \n",
    "        \n",
    "        else:\n",
    "            # else is the case when the element is just a node thus it does not\n",
    "            # have an area or length\n",
    "            doc_shard += text_weigher(text,0)\n",
    "\n",
    "    return doc_shard\n",
    "\n",
    "\n",
    "\n",
    "def text_weigher(text,weight):\n",
    "    # for the time beeing we just round the weight to the next intiger\n",
    "    weight = round(weight)\n",
    "    \n",
    "    if weight <= 1 :\n",
    "        # we want the text atleast once \n",
    "        w_text = text\n",
    "    \n",
    "    else:\n",
    "        text += ' '\n",
    "        w_text = text*weight\n",
    "        \n",
    "    return w_text\n",
    "    "
   ]
  },
  {
   "cell_type": "code",
   "execution_count": 32,
   "id": "international-gossip",
   "metadata": {},
   "outputs": [],
   "source": [
    "osm_handle = parse_osm.disect_osm(parse_osm.json_from_osm(q_poly))\n",
    "osm_handle.feature_df"
   ]
  },
  {
   "cell_type": "code",
   "execution_count": 85,
   "id": "false-assumption",
   "metadata": {},
   "outputs": [
    {
     "data": {
      "text/plain": [
       "'aaaaa'"
      ]
     },
     "execution_count": 85,
     "metadata": {},
     "output_type": "execute_result"
    }
   ],
   "source": [
    "a = 'a'*5\n",
    "a"
   ]
  },
  {
   "cell_type": "code",
   "execution_count": 37,
   "id": "expensive-cannon",
   "metadata": {
    "collapsed": true,
    "jupyter": {
     "outputs_hidden": true
    }
   },
   "outputs": [
    {
     "data": {
      "text/html": [
       "<div>\n",
       "<style scoped>\n",
       "    .dataframe tbody tr th:only-of-type {\n",
       "        vertical-align: middle;\n",
       "    }\n",
       "\n",
       "    .dataframe tbody tr th {\n",
       "        vertical-align: top;\n",
       "    }\n",
       "\n",
       "    .dataframe thead th {\n",
       "        text-align: right;\n",
       "    }\n",
       "</style>\n",
       "<table border=\"1\" class=\"dataframe\">\n",
       "  <thead>\n",
       "    <tr style=\"text-align: right;\">\n",
       "      <th></th>\n",
       "      <th></th>\n",
       "      <th>geometry_ref</th>\n",
       "      <th>geometry</th>\n",
       "      <th>tags</th>\n",
       "    </tr>\n",
       "    <tr>\n",
       "      <th>type</th>\n",
       "      <th>id</th>\n",
       "      <th></th>\n",
       "      <th></th>\n",
       "      <th></th>\n",
       "    </tr>\n",
       "  </thead>\n",
       "  <tbody>\n",
       "    <tr>\n",
       "      <th rowspan=\"5\" valign=\"top\">node</th>\n",
       "      <th>119403521</th>\n",
       "      <td>None</td>\n",
       "      <td>{'point': POINT (16.369217 48.2002961)}</td>\n",
       "      <td>{'railway': 'switch'}</td>\n",
       "    </tr>\n",
       "    <tr>\n",
       "      <th>119403523</th>\n",
       "      <td>None</td>\n",
       "      <td>{'point': POINT (16.3696581 48.2003446)}</td>\n",
       "      <td>{'bus': 'yes', 'highway': 'bus_stop', 'local_r...</td>\n",
       "    </tr>\n",
       "    <tr>\n",
       "      <th>270929643</th>\n",
       "      <td>None</td>\n",
       "      <td>{'point': POINT (16.3689156 48.2002486)}</td>\n",
       "      <td>{'entrance': 'yes', 'entrance_marker:subway': ...</td>\n",
       "    </tr>\n",
       "    <tr>\n",
       "      <th>271334053</th>\n",
       "      <td>None</td>\n",
       "      <td>{'point': POINT (16.3695828 48.2004257)}</td>\n",
       "      <td>{'light_rail': 'yes', 'local_ref': 'H', 'name'...</td>\n",
       "    </tr>\n",
       "    <tr>\n",
       "      <th>276372849</th>\n",
       "      <td>None</td>\n",
       "      <td>{'point': POINT (16.3716187 48.1990612)}</td>\n",
       "      <td>{'artist:wikidata': 'Q151097', 'artist_name': ...</td>\n",
       "    </tr>\n",
       "    <tr>\n",
       "      <th>...</th>\n",
       "      <th>...</th>\n",
       "      <td>...</td>\n",
       "      <td>...</td>\n",
       "      <td>...</td>\n",
       "    </tr>\n",
       "    <tr>\n",
       "      <th rowspan=\"5\" valign=\"top\">way</th>\n",
       "      <th>689093871</th>\n",
       "      <td>[1772629803, 6464060426, 6464060427, 646406042...</td>\n",
       "      <td>{'polygon': POLYGON ((16.3727613 48.1995461, 1...</td>\n",
       "      <td>{'barrier': 'fence', 'leisure': 'dog_park'}</td>\n",
       "    </tr>\n",
       "    <tr>\n",
       "      <th>700415774</th>\n",
       "      <td>[3993342688, 4135190909]</td>\n",
       "      <td>{'line': LINESTRING (16.369697 48.2004685, 16....</td>\n",
       "      <td>{'electrified': 'rail', 'electrified:rail': 's...</td>\n",
       "    </tr>\n",
       "    <tr>\n",
       "      <th>700415775</th>\n",
       "      <td>[2028498703, 2028498790]</td>\n",
       "      <td>{'line': LINESTRING (16.3696261 48.2003305, 16...</td>\n",
       "      <td>{'electrified': 'rail', 'electrified:rail': 's...</td>\n",
       "    </tr>\n",
       "    <tr>\n",
       "      <th>808894535</th>\n",
       "      <td>[60664062, 7563777116, 7563777117, 7563777119,...</td>\n",
       "      <td>{'polygon': POLYGON ((16.3722629 48.1980862, 1...</td>\n",
       "      <td>{'landuse': 'grass'}</td>\n",
       "    </tr>\n",
       "    <tr>\n",
       "      <th>848458964</th>\n",
       "      <td>[7917152352, 7917152350, 7917152349, 791715235...</td>\n",
       "      <td>{'polygon': POLYGON ((16.3678131 48.198383, 16...</td>\n",
       "      <td>{'amenity': 'fast_food', 'building': 'kiosk', ...</td>\n",
       "    </tr>\n",
       "  </tbody>\n",
       "</table>\n",
       "<p>325 rows × 3 columns</p>\n",
       "</div>"
      ],
      "text/plain": [
       "                                                     geometry_ref  \\\n",
       "type id                                                             \n",
       "node 119403521                                               None   \n",
       "     119403523                                               None   \n",
       "     270929643                                               None   \n",
       "     271334053                                               None   \n",
       "     276372849                                               None   \n",
       "...                                                           ...   \n",
       "way  689093871  [1772629803, 6464060426, 6464060427, 646406042...   \n",
       "     700415774                           [3993342688, 4135190909]   \n",
       "     700415775                           [2028498703, 2028498790]   \n",
       "     808894535  [60664062, 7563777116, 7563777117, 7563777119,...   \n",
       "     848458964  [7917152352, 7917152350, 7917152349, 791715235...   \n",
       "\n",
       "                                                         geometry  \\\n",
       "type id                                                             \n",
       "node 119403521            {'point': POINT (16.369217 48.2002961)}   \n",
       "     119403523           {'point': POINT (16.3696581 48.2003446)}   \n",
       "     270929643           {'point': POINT (16.3689156 48.2002486)}   \n",
       "     271334053           {'point': POINT (16.3695828 48.2004257)}   \n",
       "     276372849           {'point': POINT (16.3716187 48.1990612)}   \n",
       "...                                                           ...   \n",
       "way  689093871  {'polygon': POLYGON ((16.3727613 48.1995461, 1...   \n",
       "     700415774  {'line': LINESTRING (16.369697 48.2004685, 16....   \n",
       "     700415775  {'line': LINESTRING (16.3696261 48.2003305, 16...   \n",
       "     808894535  {'polygon': POLYGON ((16.3722629 48.1980862, 1...   \n",
       "     848458964  {'polygon': POLYGON ((16.3678131 48.198383, 16...   \n",
       "\n",
       "                                                             tags  \n",
       "type id                                                            \n",
       "node 119403521                              {'railway': 'switch'}  \n",
       "     119403523  {'bus': 'yes', 'highway': 'bus_stop', 'local_r...  \n",
       "     270929643  {'entrance': 'yes', 'entrance_marker:subway': ...  \n",
       "     271334053  {'light_rail': 'yes', 'local_ref': 'H', 'name'...  \n",
       "     276372849  {'artist:wikidata': 'Q151097', 'artist_name': ...  \n",
       "...                                                           ...  \n",
       "way  689093871        {'barrier': 'fence', 'leisure': 'dog_park'}  \n",
       "     700415774  {'electrified': 'rail', 'electrified:rail': 's...  \n",
       "     700415775  {'electrified': 'rail', 'electrified:rail': 's...  \n",
       "     808894535                               {'landuse': 'grass'}  \n",
       "     848458964  {'amenity': 'fast_food', 'building': 'kiosk', ...  \n",
       "\n",
       "[325 rows x 3 columns]"
      ]
     },
     "execution_count": 37,
     "metadata": {},
     "output_type": "execute_result"
    }
   ],
   "source": [
    "selected_tags_df = osm_handle.feature_df[osm_handle.feature_df.apply(filtertags_handler.filter_them, axis = 1)]\n",
    "type_id_list = selected_tags_df.index.tolist()\n",
    "# for the selected features we calculate the geometry:\n",
    "[osm_handle.get_geometry(f_type,osm_id) for f_type, osm_id in type_id_list]\n",
    "# reselect to fetch the generated geometries\n",
    "selected_tags_df = osm_handle.feature_df[osm_handle.feature_df.apply(filtertags_handler.filter_them, axis = 1)]\n",
    "selected_tags_df"
   ]
  },
  {
   "cell_type": "code",
   "execution_count": 111,
   "id": "alert-wrong",
   "metadata": {},
   "outputs": [],
   "source": [
    "combined_document = ''\n",
    "for i,element in enumerate(selected_tags_df[['geometry','tags']].apply(filtertags_handler.calcualte_size_for_tags, axis=1).tolist()):\n",
    "    # and then we add the document shard for a given element\n",
    "    combined_document += compose_document(element)\n",
    "    # some padding\n",
    "    combined_document += ' '"
   ]
  },
  {
   "cell_type": "code",
   "execution_count": 116,
   "id": "reverse-boards",
   "metadata": {},
   "outputs": [],
   "source": [
    "from gensim.corpora.wikicorpus import WikiCorpus\n",
    "from gensim.models.doc2vec import Doc2Vec, TaggedDocument\n",
    "from pprint import pprint\n",
    "import multiprocessing\n",
    "import pickle"
   ]
  },
  {
   "cell_type": "code",
   "execution_count": 117,
   "id": "consolidated-eugene",
   "metadata": {},
   "outputs": [],
   "source": [
    "doc2vec_model = Doc2Vec.load(\"../data/en_wikipedia_corpus/doc2vec_eng.pickel\")"
   ]
  },
  {
   "cell_type": "code",
   "execution_count": 120,
   "id": "german-toner",
   "metadata": {},
   "outputs": [],
   "source": [
    "vec = doc2vec_model.infer_vector(combined_document.split(' '))"
   ]
  },
  {
   "cell_type": "code",
   "execution_count": 124,
   "id": "neither-innocent",
   "metadata": {},
   "outputs": [
    {
     "data": {
      "text/plain": [
       "\u001b[0;31mType:\u001b[0m            Doc2VecKeyedVectors\n",
       "\u001b[0;31mString form:\u001b[0m     <gensim.models.keyedvectors.Doc2VecKeyedVectors object at 0x7fcf8292e5e0>\n",
       "\u001b[0;31mLength:\u001b[0m          4965789\n",
       "\u001b[0;31mFile:\u001b[0m            ~/.local/lib/python3.8/site-packages/gensim/models/keyedvectors.py\n",
       "\u001b[0;31mDocstring:\u001b[0m       <no docstring>\n",
       "\u001b[0;31mClass docstring:\u001b[0m Abstract base class / interface for various types of word vectors.\n"
      ]
     },
     "metadata": {},
     "output_type": "display_data"
    }
   ],
   "source": [
    "doc2vec_model.docvecs?"
   ]
  },
  {
   "cell_type": "code",
   "execution_count": 31,
   "id": "russian-frontier",
   "metadata": {
    "collapsed": true,
    "jupyter": {
     "outputs_hidden": true
    }
   },
   "outputs": [
    {
     "data": {
      "application/vnd.jupyter.widget-view+json": {
       "model_id": "334d7036b90341628e6df1ab2a761ff7",
       "version_major": 2,
       "version_minor": 0
      },
      "text/plain": [
       "Map(center=[48.19911188084065, 16.370350493313698], controls=(ZoomControl(options=['position', 'zoom_in_text',…"
      ]
     },
     "metadata": {},
     "output_type": "display_data"
    }
   ],
   "source": [
    "import ipyleaflet\n",
    "from ipyleaflet import Map, basemaps, basemap_to_tiles, GeoJSON, WKTLayer\n",
    "from ipywidgets import Label\n",
    "\n",
    "\n",
    "\n",
    "\n",
    "m = Map(\n",
    "    basemap=basemaps.CartoDB.Positron,\n",
    "    # for some reason lat lon are switch for centering the map\n",
    "    center=((q_poly.centroid.coords[0][1],q_poly.centroid.coords[0][0])),\n",
    "    #center=((test_multi['multipolygon'].centroid.coords[0][1],test_multi['multipolygon'].centroid.coords[0][0])),\n",
    "    zoom=14\n",
    ")\n",
    "\n",
    "wlayer = WKTLayer(\n",
    "    wkt_string=q_poly.wkt,\n",
    "    #hover_style={\"fillColor\": \"red\"},\n",
    "    fill_color=\"red\",\n",
    "    color=\"red\",\n",
    ")\n",
    "m.add_layer(wlayer)\n",
    "\n",
    "\n",
    "# m.add_layer(geo_json)\n",
    "\n",
    "\n",
    "m"
   ]
  }
 ],
 "metadata": {
  "kernelspec": {
   "display_name": "Python 3",
   "language": "python",
   "name": "python3"
  },
  "language_info": {
   "codemirror_mode": {
    "name": "ipython",
    "version": 3
   },
   "file_extension": ".py",
   "mimetype": "text/x-python",
   "name": "python",
   "nbconvert_exporter": "python",
   "pygments_lexer": "ipython3",
   "version": "3.8.5"
  }
 },
 "nbformat": 4,
 "nbformat_minor": 5
}
